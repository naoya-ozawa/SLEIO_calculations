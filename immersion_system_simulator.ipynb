{
 "cells": [
  {
   "cell_type": "code",
   "execution_count": 494,
   "metadata": {},
   "outputs": [],
   "source": [
    "import numpy as np\n",
    "import matplotlib.pyplot as plt"
   ]
  },
  {
   "cell_type": "code",
   "execution_count": 598,
   "metadata": {},
   "outputs": [],
   "source": [
    "# Define incoming beam profile\n",
    "r_in = 3.0 # mm\n",
    "#rp_i = -0.0385 # d(r_in)/dz\n",
    "rp_i = -0.05\n",
    "V_A = 10.0 # V"
   ]
  },
  {
   "cell_type": "code",
   "execution_count": 599,
   "metadata": {},
   "outputs": [],
   "source": [
    "# Define geometry\n",
    "\n",
    "gap = 1.5 # mm\n",
    "\n",
    "## ver 1\n",
    "#L_extraction = 87.0 # mm\n",
    "#L_deflection = 41.0 # mm\n",
    "#L_drift1 = 87.0 # mm\n",
    "#L_EL = 41.0 # mm\n",
    "#L_drift2 = 35.0 # mm\n",
    "\n",
    "# ver 2\n",
    "L_extraction = 89.0 # mm\n",
    "L_deflection = 50.0 # mm\n",
    "L_drift1 = 50.0 # mm\n",
    "L_EL = 50.0 # mm\n",
    "L_drift2 = 50.0 # mm\n",
    "\n",
    "\n",
    "# Parametrize\n",
    "\n",
    "if rp_i == 0:\n",
    "    z_0 = 0.0\n",
    "else:\n",
    "    z_0 = -r_in / rp_i\n",
    "\n",
    "z_1 = 0.0\n",
    "z_2 = L_extraction\n",
    "z_3 = z_2+gap\n",
    "z_4 = z_3+L_deflection\n",
    "z_5 = z_4+gap\n",
    "z_6 = z_5+L_drift1\n",
    "z_7 = z_6+gap\n",
    "z_8 = z_7+L_EL\n",
    "z_9 = z_8+gap\n",
    "z_10 = z_9+L_drift2"
   ]
  },
  {
   "cell_type": "code",
   "execution_count": 600,
   "metadata": {},
   "outputs": [],
   "source": [
    "# Define ray matrices\n",
    "\n",
    "def R_drift (L):\n",
    "    return [[1.0,L],[0.0,1.0]]\n",
    "    \n",
    "def R_lens (d, V_bef, V_aft):\n",
    "    N = V_aft/V_bef\n",
    "    r_11 = (3.0 - np.sqrt(N)) / 2.0\n",
    "    r_12 = 2.0*d / (1.0 + np.sqrt(N))\n",
    "    r_21 = (-3.0/8.0) * (N-1.0) * (np.sqrt(N)-1.0) / (N * d)\n",
    "    r_22 = (3.0*np.sqrt(N) - 1.0) / (2.0*N)\n",
    "    return [[r_11,r_12],[r_21,r_22]]"
   ]
  },
  {
   "cell_type": "code",
   "execution_count": 619,
   "metadata": {},
   "outputs": [],
   "source": [
    "# Define voltages --> Assuming a -1e ion extraction\n",
    "\n",
    "#V_extraction = 30.0 # V\n",
    "#V_deflection = 100.0 # V\n",
    "#V_drift1 = 300.0 # V\n",
    "#V_EL = 1000.0 # V\n",
    "#V_drift2 = 3000.0 # V\n",
    "\n",
    "# For testing\n",
    "V_coef = 15.0\n",
    "V_0 = 30.0 # V\n",
    "V_extraction = V_coef * z_0 + V_0 # V\n",
    "V_deflection = V_coef * z_3 + V_0 # V\n",
    "V_drift1 = V_coef * z_5 + V_0 # V\n",
    "V_EL = V_coef * z_7 + V_0 # V\n",
    "V_drift2 = V_coef * z_9 + V_0 # V\n",
    "\n",
    "# Add the initial energy\n",
    "V_extraction += V_A\n",
    "V_deflection += V_A\n",
    "V_drift1 += V_A\n",
    "V_EL += V_A\n",
    "V_drift2 += V_A"
   ]
  },
  {
   "cell_type": "code",
   "execution_count": 620,
   "metadata": {},
   "outputs": [],
   "source": [
    "# Define the matrix for the beamline\n",
    "\n",
    "Mdrift_extraction = np.matrix(R_drift(L_extraction))\n",
    "Mlens_extraction = np.matrix(R_lens(gap,V_extraction,V_deflection))\n",
    "Mdrift_deflection = np.matrix(R_drift(L_deflection))\n",
    "Mlens_deflection = np.matrix(R_lens(gap,V_deflection,V_drift1))\n",
    "Mdrift_drift1 = np.matrix(R_drift(L_drift1))\n",
    "Mlens_drift1 = np.matrix(R_lens(gap,V_drift1,V_EL))\n",
    "Mdrift_EL = np.matrix(R_drift(L_EL))\n",
    "Mlens_EL = np.matrix(R_lens(gap,V_EL,V_drift2))\n",
    "Mdrift_drift2 = np.matrix(R_drift(L_drift2))\n",
    "\n",
    "#M_beamline = Mdrift_drift2 * Mlens_EL * Mdrift_EL * Mlens_drift1 * Mdrift_drift1 * Mlens_deflection * Mdrift_deflection * Mlens_extraction * Mdrift_extraction\n",
    "\n",
    "## for testing\n",
    "#M_beamline = Mlens_deflection * Mdrift_deflection * Mlens_extraction * Mdrift_extraction"
   ]
  },
  {
   "cell_type": "code",
   "execution_count": 621,
   "metadata": {},
   "outputs": [],
   "source": [
    "# Store initial information in a matrix\n",
    "r_initial = np.matrix([[r_in],[rp_i]])"
   ]
  },
  {
   "cell_type": "code",
   "execution_count": 622,
   "metadata": {},
   "outputs": [],
   "source": [
    "# Calculate the beam trajectory at each point\n",
    "r_1 = r_initial\n",
    "r_2 = Mdrift_extraction * r_1\n",
    "r_3 = Mlens_extraction * r_2\n",
    "r_4 = Mdrift_deflection * r_3\n",
    "r_5 = Mlens_deflection * r_4\n",
    "r_6 = Mdrift_drift1 * r_5\n",
    "r_7 = Mlens_drift1 * r_6\n",
    "r_8 = Mdrift_EL * r_7\n",
    "r_9 = Mlens_EL * r_8\n",
    "r_10 = Mdrift_drift2 * r_9"
   ]
  },
  {
   "cell_type": "code",
   "execution_count": 623,
   "metadata": {},
   "outputs": [],
   "source": [
    "# Store result into array\n",
    "z_position = [z_1,z_2,z_3,z_4,z_5,z_6,z_7,z_8,z_9,z_10]\n",
    "r_beradius = [r_1[0,0],r_2[0,0],r_3[0,0],r_4[0,0],r_5[0,0],r_6[0,0],r_7[0,0],r_8[0,0],r_9[0,0],r_10[0,0]]\n",
    "r_opradius = [-r_1[0,0],-r_2[0,0],-r_3[0,0],-r_4[0,0],-r_5[0,0],-r_6[0,0],-r_7[0,0],-r_8[0,0],-r_9[0,0],-r_10[0,0]]"
   ]
  },
  {
   "cell_type": "code",
   "execution_count": 624,
   "metadata": {},
   "outputs": [
    {
     "data": {
      "text/plain": [
       "<function matplotlib.pyplot.show>"
      ]
     },
     "execution_count": 624,
     "metadata": {},
     "output_type": "execute_result"
    },
    {
     "data": {
      "image/png": "[encoded data removed]",
      "text/plain": [
       "<matplotlib.figure.Figure at 0x7f062c76feb8>"
      ]
     },
     "metadata": {},
     "output_type": "display_data"
    }
   ],
   "source": [
    "# Visualize the beam trajectory\n",
    "\n",
    "#print('r = ' , r_out , ', r-prime = ' , rp_ou)\n",
    "\n",
    "\n",
    "for i in range(5):\n",
    "    plt.axvspan(z_position[2*i],z_position[2*i+1], facecolor='#2ca02c', alpha=0.5)\n",
    "\n",
    "plt.plot(z_position,r_beradius)\n",
    "plt.plot(z_position,r_opradius)\n",
    "\n",
    "#plt.set(xlabel='position (mm)', ylabel='beam radius (mm)', title='Immersion lens system')\n",
    "plt.grid()\n",
    "\n",
    "axes = plt.gca()\n",
    "#axes.set_xlim([0,z_5])\n",
    "#axes.set_ylim([-16.,16.])\n",
    "\n",
    "plt.show"
   ]
  }
 ],
 "metadata": {
  "kernelspec": {
   "display_name": "Python 3",
   "language": "python",
   "name": "python3"
  },
  "language_info": {
   "codemirror_mode": {
    "name": "ipython",
    "version": 3
   },
   "file_extension": ".py",
   "mimetype": "text/x-python",
   "name": "python",
   "nbconvert_exporter": "python",
   "pygments_lexer": "ipython3",
   "version": "3.6.4"
  }
 },
 "nbformat": 4,
 "nbformat_minor": 2
}
